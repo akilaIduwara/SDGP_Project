{
  "nbformat": 4,
  "nbformat_minor": 0,
  "metadata": {
    "colab": {
      "provenance": [],
      "mount_file_id": "https://github.com/akilaIduwara/SDGP_Project/blob/main/SDGP_Project.ipynb",
      "authorship_tag": "ABX9TyOFGVKGImiwLwwoFBLukEDb",
      "include_colab_link": true
    },
    "kernelspec": {
      "name": "python3",
      "display_name": "Python 3"
    },
    "language_info": {
      "name": "python"
    }
  },
  "cells": [
    {
      "cell_type": "markdown",
      "metadata": {
        "id": "view-in-github",
        "colab_type": "text"
      },
      "source": [
        "<a href=\"https://colab.research.google.com/github/akilaIduwara/SDGP_Project/blob/main/SDGP_Project.ipynb\" target=\"_parent\"><img src=\"https://colab.research.google.com/assets/colab-badge.svg\" alt=\"Open In Colab\"/></a>"
      ]
    },
    {
      "cell_type": "code",
      "execution_count": 2,
      "metadata": {
        "id": "GhAbPKbWPuY_"
      },
      "outputs": [],
      "source": [
        "import numpy as np\n",
        "import matplotlib.pyplot as plt\n",
        "import pandas as pd"
      ]
    },
    {
      "cell_type": "code",
      "source": [
        "Data_set=pd.read_csv(\"/content/drive/MyDrive/SDGP_DataSet/JWD_L8_DD_ERTmodel.csv\")"
      ],
      "metadata": {
        "id": "9E-eAnqLT-5q",
        "colab": {
          "base_uri": "https://localhost:8080/"
        },
        "outputId": "f52365d7-3fa0-489a-ca9b-80a7e284b2d6"
      },
      "execution_count": 3,
      "outputs": [
        {
          "output_type": "stream",
          "name": "stderr",
          "text": [
            "<ipython-input-3-7bb53cb674d2>:1: DtypeWarning: Columns (0,1,2,3,4,5) have mixed types. Specify dtype option on import or set low_memory=False.\n",
            "  Data_set=pd.read_csv(\"/content/drive/MyDrive/SDGP_DataSet/JWD_L8_DD_ERTmodel.csv\")\n"
          ]
        }
      ]
    },
    {
      "cell_type": "code",
      "source": [
        "# Convert all columns to numeric where possible, forcing errors to NaN\n",
        "df = df.apply(pd.to_numeric, errors='coerce')\n",
        "\n",
        "# Remove rows that contain -9999 in any column\n",
        "df_cleaned = df[~df.eq(-9999).any(axis=1)]\n",
        "\n",
        "# Display the cleaned dataset\n",
        "print(df_cleaned)\n",
        "\n",
        "# Save cleaned dataset\n",
        "cleaned_file_path = \"/content/drive/MyDrive/SDGP_DataSet/JWD_L8_DD_ERTmodel.csv\"\n",
        "df_cleaned.to_csv(cleaned_file_path, index=False)\n",
        "\n",
        "# Show saved file path\n",
        "cleaned_file_path\n"
      ],
      "metadata": {
        "colab": {
          "base_uri": "https://localhost:8080/",
          "height": 278
        },
        "id": "ID3-ma6bgohl",
        "outputId": "d79e392a-d79f-48c0-c71a-79a5b867ad89"
      },
      "execution_count": 14,
      "outputs": [
        {
          "output_type": "stream",
          "name": "stdout",
          "text": [
            "                                                           JWDL8DDg - Resistivity model \n",
            "Dist     X_NAD83UTMz16N   Y_NAD83UTMz16N  Elev   Log10Res                            NaN\n",
            "0.25     703846.44        3398898.58      35.53  1.62843                             1.0\n",
            "0.50     703846.66        3398898.68      35.33  1.63724                             1.0\n",
            "                                          35.43  1.62814                             1.0\n",
            "                                          35.53  1.61904                             1.0\n",
            "...                                                                                  ...\n",
            "642.25 -9999.0          -9999.0          17.83  1.75046                              1.0\n",
            "642.5  -9999.0          -9999.0          17.63  1.7439                               1.0\n",
            "                                         17.73  1.74786                              1.0\n",
            "                                         17.83  1.75182                              1.0\n",
            "642.75 -9999.0          -9999.0          17.83  1.75322                              1.0\n",
            "\n",
            "[1308991 rows x 1 columns]\n"
          ]
        },
        {
          "output_type": "execute_result",
          "data": {
            "text/plain": [
              "'/content/drive/MyDrive/SDGP_DataSet/JWD_L8_DD_ERTmodel.csv'"
            ],
            "application/vnd.google.colaboratory.intrinsic+json": {
              "type": "string"
            }
          },
          "metadata": {},
          "execution_count": 14
        }
      ]
    },
    {
      "cell_type": "code",
      "source": [],
      "metadata": {
        "id": "enpKpRa1jnnY"
      },
      "execution_count": null,
      "outputs": []
    }
  ]
}