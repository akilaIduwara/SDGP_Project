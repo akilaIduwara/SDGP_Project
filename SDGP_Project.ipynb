{
  "nbformat": 4,
  "nbformat_minor": 0,
  "metadata": {
    "colab": {
      "provenance": [],
      "include_colab_link": true
    },
    "kernelspec": {
      "name": "python3",
      "display_name": "Python 3"
    },
    "language_info": {
      "name": "python"
    }
  },
  "cells": [
    {
      "cell_type": "markdown",
      "metadata": {
        "id": "view-in-github",
        "colab_type": "text"
      },
      "source": [
        "<a href=\"https://colab.research.google.com/github/akilaIduwara/SDGP_Project/blob/Akila_Induwara/SDGP_Project.ipynb\" target=\"_parent\"><img src=\"https://colab.research.google.com/assets/colab-badge.svg\" alt=\"Open In Colab\"/></a>"
      ]
    },
    {
      "cell_type": "code",
      "execution_count": null,
      "metadata": {
        "id": "GhAbPKbWPuY_"
      },
      "outputs": [],
      "source": [
        "#Import Required Libraries\n",
        "import pandas as pd\n",
        "import numpy as np\n",
        "import xgboost as xgb\n",
        "from sklearn.model_selection import train_test_split\n",
        "from sklearn.metrics import classification_report"
      ]
    },
    {
      "cell_type": "code",
      "source": [
        "#Load and Preprocess Data\n",
        "\n",
        "# Load data (replace with your actual file path)\n",
        "df = pd.read_csv('JWD_L8_DD_ERTmodel.csv', skiprows=1, header=0)\n",
        "\n",
        "# Clean invalid resistivity values\n",
        "df = df[df['Log10Res'] != -9999]\n",
        "\n",
        "# Convert Log10Res to resistivity (ohm-m)\n",
        "df['Resistivity'] = 10 ** df['Log10Res']\n",
        "\n",
        "# Create target variable: 1 if resistivity is between 20 and 100 ohm-m\n",
        "df['is_water'] = np.where((df['Resistivity'] >= 20) & (df['Resistivity'] <= 100), 1, 0)\n",
        "\n",
        "# Extract features and target\n",
        "features = df[['Dist', 'X_NAD83UTMz16N', 'Y_NAD83UTMz16N', 'Elev']]\n",
        "target = df['is_water']"
      ],
      "metadata": {
        "id": "enpKpRa1jnnY"
      },
      "execution_count": null,
      "outputs": []
    },
    {
      "cell_type": "code",
      "source": [
        "#Train XGBoost Model\n",
        "\n",
        "# Split data into training and testing sets\n",
        "X_train, X_test, y_train, y_test = train_test_split(\n",
        "    features, target, test_size=0.2, random_state=42\n",
        ")\n",
        "\n",
        "# Initialize and train XGBoost classifier\n",
        "model = xgb.XGBClassifier(\n",
        "    objective='binary:logistic',\n",
        "    eval_metric='logloss',\n",
        "    use_label_encoder=False\n",
        ")\n",
        "model.fit(X_train, y_train)\n",
        "\n",
        "# Evaluate model\n",
        "y_pred = model.predict(X_test)\n",
        "print(classification_report(y_test, y_pred))\n"
      ],
      "metadata": {
        "id": "qZ44-O4IxPWR"
      },
      "execution_count": null,
      "outputs": []
    },
    {
      "cell_type": "code",
      "source": [
        "#Identify Water Resources and Display Results\n",
        "\n",
        "# Predict water locations in the entire dataset\n",
        "df['predicted_water'] = model.predict(features)\n",
        "\n",
        "# Filter rows where water is predicted\n",
        "water_locations = df[df['predicted_water'] == 1]\n",
        "\n",
        "# Display results (Depth = absolute value of Elev)\n",
        "results = water_locations[[\n",
        "    'X_NAD83UTMz16N', 'Y_NAD83UTMz16N', 'Elev'\n",
        "]].rename(columns={'Elev': 'Depth'})\n",
        "\n",
        "results['Depth'] = np.abs(results['Depth'])  # Convert elevation to depth\n",
        "\n",
        "print(\"\\nIdentified Water Resources:\")\n",
        "print(results.to_string(index=False))"
      ],
      "metadata": {
        "id": "DPYNymkyxTL1"
      },
      "execution_count": null,
      "outputs": []
    },
    {
      "cell_type": "code",
      "source": [],
      "metadata": {
        "id": "TAXh9dsXxXCs"
      },
      "execution_count": null,
      "outputs": []
    },
    {
      "cell_type": "code",
      "source": [
        "from google.colab import drive\n",
        "drive.mount('/content/drive')"
      ],
      "metadata": {
        "id": "AvvrctY4xhmf"
      },
      "execution_count": null,
      "outputs": []
    }
  ]
}