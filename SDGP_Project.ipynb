{
  "nbformat": 4,
  "nbformat_minor": 0,
  "metadata": {
    "colab": {
      "provenance": [],
      "include_colab_link": true
    },
    "kernelspec": {
      "name": "python3",
      "display_name": "Python 3"
    },
    "language_info": {
      "name": "python"
    }
  },
  "cells": [
    {
      "cell_type": "markdown",
      "metadata": {
        "id": "view-in-github",
        "colab_type": "text"
      },
      "source": [
        "<a href=\"https://colab.research.google.com/github/akilaIduwara/SDGP_Project/blob/Akila_Induwara/SDGP_Project.ipynb\" target=\"_parent\"><img src=\"https://colab.research.google.com/assets/colab-badge.svg\" alt=\"Open In Colab\"/></a>"
      ]
    },
    {
      "cell_type": "code",
      "execution_count": 1,
      "metadata": {
        "id": "GhAbPKbWPuY_",
        "outputId": "adba382b-8574-46f2-dba6-e3707c617c5c",
        "colab": {
          "base_uri": "https://localhost:8080/"
        }
      },
      "outputs": [
        {
          "output_type": "stream",
          "name": "stdout",
          "text": [
            "Columns in the CSV file: ['Dist', 'X_NAD83UTMz16N', 'Y_NAD83UTMz16N', 'Elev', 'Log10Res', 'Shading']\n",
            "Classification Report:\n",
            "              precision    recall  f1-score   support\n",
            "\n",
            "           0       0.98      0.98      0.98     65625\n",
            "           1       0.99      0.99      0.99    196173\n",
            "\n",
            "    accuracy                           0.99    261798\n",
            "   macro avg       0.98      0.98      0.98    261798\n",
            "weighted avg       0.99      0.99      0.99    261798\n",
            "\n",
            "\n",
            "Identified Water Resources:\n",
            " X_NAD83UTMz16N  Y_NAD83UTMz16N  Depth\n",
            "703846.44       3398898.58      35.53 \n",
            "703846.66       3398898.68      35.33 \n",
            "703846.66       3398898.68      35.43 \n",
            "703846.66       3398898.68      35.53 \n",
            "703846.66       3398898.68      35.63 \n",
            "703846.89       3398898.78      35.13 \n",
            "703846.89       3398898.78      35.23 \n",
            "703846.89       3398898.78      35.33 \n",
            "703846.89       3398898.78      35.43 \n",
            "703846.89       3398898.78      35.53 \n",
            "Results saved to identified_water_resources.csv\n"
          ]
        }
      ],
      "source": [
        "# Step 1: Import Required Libraries\n",
        "import pandas as pd\n",
        "import numpy as np\n",
        "import xgboost as xgb\n",
        "from sklearn.model_selection import train_test_split\n",
        "from sklearn.metrics import classification_report\n",
        "\n",
        "# Step 2: Load and Preprocess Data\n",
        "# Load data (replace with your actual file path)\n",
        "try:\n",
        "    df = pd.read_csv('/content/JWD_L8_DD_ERTmodel.csv', skiprows=1, header=0)\n",
        "\n",
        "    # Strip spaces from column names\n",
        "    df.columns = df.columns.str.strip()\n",
        "\n",
        "    # Print column names to verify\n",
        "    print(\"Columns in the CSV file:\", df.columns.tolist())\n",
        "\n",
        "    # Check if 'Log10Res' column exists\n",
        "    if 'Log10Res' not in df.columns:\n",
        "        raise KeyError(\"Column 'Log10Res' not found in the CSV file. Please check the column names.\")\n",
        "\n",
        "    # Clean invalid resistivity values (remove rows where Log10Res is -9999)\n",
        "    df = df[df['Log10Res'] != -9999]\n",
        "\n",
        "    # Convert Log10Res to resistivity (ohm-m)\n",
        "    df['Resistivity'] = 10 ** df['Log10Res']\n",
        "\n",
        "    # Create target variable: 1 if resistivity is between 20 and 100 ohm-m, else 0\n",
        "    df['is_water'] = np.where((df['Resistivity'] >= 20) & (df['Resistivity'] <= 100), 1, 0)\n",
        "\n",
        "    # Extract features (X, Y, Elev, Dist) and target (is_water)\n",
        "    features = df[['Dist', 'X_NAD83UTMz16N', 'Y_NAD83UTMz16N', 'Elev']]\n",
        "    target = df['is_water']\n",
        "\n",
        "except Exception as e:\n",
        "    print(\"Error during data loading or preprocessing:\", e)\n",
        "    exit()\n",
        "\n",
        "# Step 3: Train XGBoost Model\n",
        "try:\n",
        "    # Split data into training and testing sets\n",
        "    X_train, X_test, y_train, y_test = train_test_split(\n",
        "        features, target, test_size=0.2, random_state=42\n",
        "    )\n",
        "\n",
        "    # Initialize and train XGBoost classifier\n",
        "    model = xgb.XGBClassifier(\n",
        "        objective='binary:logistic',\n",
        "        eval_metric='logloss'\n",
        "    )\n",
        "    model.fit(X_train, y_train)\n",
        "\n",
        "    # Evaluate model\n",
        "    y_pred = model.predict(X_test)\n",
        "    print(\"Classification Report:\")\n",
        "    print(classification_report(y_test, y_pred))\n",
        "\n",
        "except Exception as e:\n",
        "    print(\"Error during model training or evaluation:\", e)\n",
        "    exit()\n",
        "\n",
        "# Step 4: Identify Water Resources and Display Results\n",
        "try:\n",
        "    # Predict water locations in the entire dataset\n",
        "    df['predicted_water'] = model.predict(features)\n",
        "\n",
        "    # Filter rows where water is predicted\n",
        "    water_locations = df[df['predicted_water'] == 1]\n",
        "\n",
        "    # Display results (Depth = absolute value of Elev)\n",
        "    results = water_locations[[\n",
        "        'X_NAD83UTMz16N', 'Y_NAD83UTMz16N', 'Elev'\n",
        "    ]].rename(columns={'Elev': 'Depth'})\n",
        "\n",
        "    results['Depth'] = np.abs(results['Depth'])  # Convert elevation to depth\n",
        "\n",
        "    print(\"\\nIdentified Water Resources:\")\n",
        "    print(results.head(10).to_string(index=False, justify='left'))  # Display formatted output\n",
        "\n",
        "    # Save results to CSV\n",
        "    results.to_csv(\"identified_water_resources.csv\", index=False)\n",
        "    print(\"Results saved to identified_water_resources.csv\")\n",
        "\n",
        "except Exception as e:\n",
        "    print(\"Error during prediction or result display:\", e)\n",
        "    exit()\n"
      ]
    },
    {
      "cell_type": "code",
      "source": [],
      "metadata": {
        "id": "enpKpRa1jnnY"
      },
      "execution_count": null,
      "outputs": []
    }
  ]
}